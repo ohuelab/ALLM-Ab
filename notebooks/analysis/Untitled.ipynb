{
 "cells": [
  {
   "cell_type": "code",
   "execution_count": 1,
   "id": "a4ca546c-d794-4565-86c5-a9b5b5dc1967",
   "metadata": {},
   "outputs": [],
   "source": [
    "import pandas as pd"
   ]
  },
  {
   "cell_type": "code",
   "execution_count": 5,
   "id": "b3075a46-2659-470f-ba28-d48da9e64da2",
   "metadata": {},
   "outputs": [
    {
     "name": "stdout",
     "output_type": "stream",
     "text": [
      "outputs/greedy_0.0/dms_sequence_2_N-50_ini-1\n",
      "outputs/greedy_0.0/dms_sequence_1_N-100_ini-1\n",
      "outputs/ucb_0.0/dms_sequence_2_N-50_ini-1\n",
      "outputs/ucb_2.0/dms_sequence_1_N-50_ini-1\n",
      "outputs/ucb_0.5/dms_sequence_1_N-50_ini-1\n",
      "outputs/greedy_0.0/dms_sequence_2_N-75_ini-1\n",
      "outputs/greedy_0.0/dms_sequence_1_N-75_ini-1\n",
      "outputs/ucb_0.0/dms_sequence_0_N-50_ini-1\n",
      "outputs/ucb_1.0/dms_sequence_2_N-50_ini-1\n",
      "outputs/greedy_0.0/dms_sequence_1_N-50_ini-1\n",
      "outputs/greedy_0.0/dms_sequence_2_N-25_ini-1\n",
      "outputs/ucb_1.0/dms_sequence_0_N-50_ini-1\n",
      "outputs/ucb_0.5/dms_sequence_0_N-50_ini-1\n",
      "outputs/greedy_0.0/dms_sequence_0_N-50_ini-1\n",
      "outputs/ucb_0.0/dms_sequence_1_N-50_ini-1\n",
      "outputs/greedy_0.0/dms_sequence_0_N-25_ini-1\n",
      "outputs/greedy_0.0/dms_sequence_1_N-25_ini-1\n",
      "outputs/ucb_0.5/dms_sequence_2_N-50_ini-1\n",
      "outputs/ucb_2.0/dms_sequence_0_N-50_ini-1\n",
      "outputs/greedy_0.0/dms_sequence_0_N-75_ini-1\n",
      "outputs/ucb_2.0/dms_sequence_2_N-50_ini-1\n",
      "outputs/ucb_1.0/dms_sequence_1_N-50_ini-1\n",
      "outputs/greedy_0.0/dms_sequence_2_N-100_ini-1\n",
      "outputs/greedy_0.0/dms_sequence_0_N-100_ini-1\n",
      "outputs/greedy_0.0/dms_structure_1_N-50_ini-1\n",
      "outputs/greedy_0.0/dms_structure_2_N-50_ini-1\n",
      "outputs_ablang/0/ei_0.0/dms_0_N-50_ini-1\n",
      "outputs_ablang/0/ei_0.0/dms_1_N-50_ini-1\n",
      "outputs_ablang/0/ei_0.0/dms_2_N-50_ini-1\n",
      "outputs_ablang/0/greedy_0.0/dms_0_N-50_ini-1\n",
      "outputs_ablang/0/greedy_0.0/dms_1_N-50_ini-1\n",
      "outputs_ablang/0/greedy_0.0/dms_2_N-50_ini-1\n",
      "outputs_ablang/0/pi_0.0/dms_0_N-50_ini-1\n",
      "outputs_ablang/0/pi_0.0/dms_1_N-50_ini-1\n",
      "outputs_ablang/0/pi_0.0/dms_2_N-50_ini-1\n",
      "outputs_ablang/0/thompson_0.0/dms_0_N-50_ini-1\n",
      "outputs_ablang/0/thompson_0.0/dms_1_N-50_ini-1\n",
      "outputs_ablang/0/thompson_0.0/dms_2_N-50_ini-1\n",
      "outputs_ablang/0/ucb_0.0/dms_0_N-50_ini-1\n",
      "outputs_ablang/0/ucb_0.0/dms_1_N-50_ini-1\n",
      "outputs_ablang/0/ucb_0.0/dms_2_N-50_ini-1\n",
      "outputs/greedy_0.0/dms_ablang2_1_N-50_ini-1\n",
      "outputs/greedy_0.0/dms_ablang2_2_N-50_ini-1\n",
      "outputs/ucb_0.5/dms_ablang2_2_N-50_ini-1\n",
      "outputs/ucb_0.0/dms_ablang2_1_N-50_ini-1\n",
      "outputs/ucb_2.0/dms_ablang2_1_N-50_ini-1\n",
      "outputs/ucb_0.0/dms_ablang2_2_N-50_ini-1\n",
      "outputs/ucb_1.0/dms_ablang2_1_N-50_ini-1\n",
      "outputs/ucb_2.0/dms_ablang2_0_N-50_ini-1\n",
      "outputs/greedy_0.0/dms_ablang2_0_N-50_ini-1\n",
      "outputs/ucb_0.5/dms_ablang2_1_N-50_ini-1\n",
      "outputs/ucb_0.0/dms_ablang2_0_N-50_ini-1\n",
      "outputs/ucb_0.5/dms_ablang2_0_N-50_ini-1\n",
      "outputs/ucb_1.0/dms_ablang2_0_N-50_ini-1\n",
      "outputs/ucb_1.0/dms_ablang2_2_N-50_ini-1\n",
      "outputs/ucb_2.0/dms_ablang2_2_N-50_ini-1\n",
      "outputs_logits/greedy_0.0/dms_ablang2_1_N-50_ini-1\n",
      "outputs_logits/greedy_0.0/dms_ablang2_2_N-50_ini-1\n",
      "outputs_logits/greedy_0.0/dms_ablang2_0_N-50_ini-1\n",
      "outputs_logits/greedy_0.0/dms_sequence_1_N-50_ini-1\n",
      "outputs_logits/greedy_0.0/dms_sequence_2_N-50_ini-1\n",
      "outputs_logits/greedy_0.0/dms_sequence_0_N-50_ini-1\n",
      "outputs_ablang/0/ucb_2.0/dms_1_N-50_ini-1\n",
      "outputs_ablang/0/greedy_0.0/dms_1_N-25_ini-1\n",
      "outputs_ablang/0/ucb_0.5/dms_0_N-50_ini-1\n",
      "outputs_ablang/0/ucb_1.0/dms_2_N-50_ini-1\n",
      "outputs_ablang/0/greedy_0.0/dms_0_N-25_ini-1\n",
      "outputs_ablang/0/greedy_0.0/dms_0_N-100_ini-1\n",
      "outputs_ablang/0/greedy_0.0/dms_2_N-25_ini-1\n",
      "outputs_ablang/0/ucb_2.0/dms_2_N-50_ini-1\n",
      "outputs_ablang/0/greedy_0.0/dms_2_N-100_ini-1\n",
      "outputs_ablang/0/ucb_0.5/dms_2_N-50_ini-1\n",
      "outputs_ablang/0/ucb_1.0/dms_0_N-50_ini-1\n",
      "outputs_ablang/0/ucb_1.0/dms_1_N-50_ini-1\n",
      "outputs_ablang/0/greedy_0.0/dms_1_N-100_ini-1\n",
      "outputs_ablang/0/ucb_0.5/dms_1_N-50_ini-1\n",
      "outputs_ablang/0/greedy_0.0/dms_0_N-75_ini-1\n",
      "outputs_ablang/0/greedy_0.0/dms_2_N-75_ini-1\n",
      "outputs_ablang/0/ucb_2.0/dms_0_N-50_ini-1\n",
      "outputs_ablang/0/greedy_0.0/dms_1_N-75_ini-1\n",
      "outputs/greedy_0.0/dms_structure_0_N-50_ini-1\n"
     ]
    }
   ],
   "source": [
    "print(\"\\n\".join(pd.read_csv(\"/home/6/uc02086/workspace-kf/protein-binding/ALLM-Ab/results/bindinggym_offline/pool_metrics_df_merge.csv\")[\"tmp_path\"].unique()))"
   ]
  }
 ],
 "metadata": {
  "kernelspec": {
   "display_name": "pyg39",
   "language": "python",
   "name": "pyg39"
  },
  "language_info": {
   "codemirror_mode": {
    "name": "ipython",
    "version": 3
   },
   "file_extension": ".py",
   "mimetype": "text/x-python",
   "name": "python",
   "nbconvert_exporter": "python",
   "pygments_lexer": "ipython3",
   "version": "3.9.19"
  }
 },
 "nbformat": 4,
 "nbformat_minor": 5
}
